{
 "cells": [
  {
   "cell_type": "code",
   "execution_count": 5,
   "metadata": {},
   "outputs": [],
   "source": [
    "import random\n",
    "from pathlib import Path\n",
    "try:\n",
    "    import megatron\n",
    "except ImportError:\n",
    "    !pip install https://github.com/valerio98-lab/Megatron_DeepFake/raw/main/dist/megatron-0.1.0.tar.gz --quiet\n",
    "\n",
    "import torch\n",
    "import numpy as np\n",
    "from megatron.trainer import Trainer\n",
    "from megatron.configuration import (\n",
    "    DatasetConfig,\n",
    "    DataloaderConfig,\n",
    "    TransformerConfig,\n",
    "    TrainConfig,\n",
    "    ExperimentConfig,\n",
    ")\n",
    "try:\n",
    "    from google.colab import drive\n",
    "    drive.mount('/content/drive')\n",
    "    experiment = ExperimentConfig(\n",
    "        dataset=DatasetConfig(\n",
    "            video_path=Path(r\"./drive/MyDrive/Megatron_DeepFake/dataset_processed\"),\n",
    "            num_frames=20,\n",
    "            random_initial_frame=True,\n",
    "        ),\n",
    "        dataloader=DataloaderConfig(\n",
    "            batch_size=128,\n",
    "        ),\n",
    "        transformer=TransformerConfig(\n",
    "            d_model=384,\n",
    "            n_heads=6,\n",
    "            n_layers=4,\n",
    "            d_ff=2048,\n",
    "            dropout= 0.1\n",
    "        ),\n",
    "        train=TrainConfig(\n",
    "            learning_rate=0.0001,\n",
    "            epochs=15,\n",
    "            tmp_dir= \"./drive/MyDrive/Megatron_DeepFake/batches\",\n",
    "            log_dir= \"./drive/MyDrive/Megatron_DeepFake/data/main_experiment\",\n",
    "            resume_training=False,\n",
    "            train_size=0.7,\n",
    "            val_size=0.2,\n",
    "        ),\n",
    "        seed=42,\n",
    "    )\n",
    "except ImportError:\n",
    "    experiment = ExperimentConfig(\n",
    "        dataset=DatasetConfig(\n",
    "            video_path=r\"G:\\My Drive\\Megatron_DeepFake\\dataset_processed\",\n",
    "            num_frames=5,\n",
    "            random_initial_frame=False,\n",
    "            depth_anything_size=\"Small\",\n",
    "            num_video= 20,\n",
    "        ),\n",
    "        dataloader=DataloaderConfig(\n",
    "            batch_size = 8,\n",
    "        ),\n",
    "        transformer=TransformerConfig(\n",
    "            d_model=600,\n",
    "            n_heads=6,\n",
    "            n_layers=4,\n",
    "            d_ff=2048,\n",
    "            dropout= 0.3,\n",
    "            activation = \"gelu\",\n",
    "            pooling_type = \"max\",\n",
    "        ),\n",
    "        train=TrainConfig(\n",
    "            learning_rate=0.001,\n",
    "            epochs=200,\n",
    "            tmp_dir= \"./../tmp\",\n",
    "            log_dir= \"./../data/exp1\",\n",
    "            resume_training=False,\n",
    "            train_size=0.5,\n",
    "            val_size=0.3,\n",
    "            weight_decay =0.1\n",
    "        ),\n",
    "        seed=42,\n",
    "    )\n",
    "# Set cuda operations deterministic\n",
    "torch.backends.cudnn.deterministic = True\n",
    "random.seed(experiment.seed)\n",
    "torch.manual_seed(experiment.seed)\n",
    "np.random.seed(experiment.seed)"
   ]
  },
  {
   "cell_type": "code",
   "execution_count": 6,
   "metadata": {},
   "outputs": [],
   "source": [
    "trainer = Trainer(experiment)\n",
    "# trainer.optimized_train_and_validate()"
   ]
  },
  {
   "cell_type": "code",
   "execution_count": null,
   "metadata": {},
   "outputs": [],
   "source": []
  },
  {
   "cell_type": "code",
   "execution_count": null,
   "metadata": {},
   "outputs": [],
   "source": [
    "import os \n",
    "import torch\n",
    "\n",
    "path = r\"G:\\My Drive\\Megatron_DeepFake\\batches\\all\\batch_size_128\\num_frames_20\\depth_anything_size_Small\\repvit_model_repvit_m0_9dist_300e_in1k\\d_model_384\\\\\"\n",
    "\n",
    "\n",
    "cnt =0\n",
    "for elem in os.listdir(path):\n",
    "    try:\n",
    "        if \"train_rgb\" in elem:\n",
    "            \n",
    "print(cnt)"
   ]
  },
  {
   "cell_type": "code",
   "execution_count": 19,
   "metadata": {},
   "outputs": [
    {
     "name": "stdout",
     "output_type": "stream",
     "text": [
      "The tensorboard extension is already loaded. To reload it, use:\n",
      "  %reload_ext tensorboard\n"
     ]
    },
    {
     "data": {
      "text/html": [
       "\n",
       "      <iframe id=\"tensorboard-frame-1c80317fa3b1799d\" width=\"100%\" height=\"800\" frameborder=\"0\">\n",
       "      </iframe>\n",
       "      <script>\n",
       "        (function() {\n",
       "          const frame = document.getElementById(\"tensorboard-frame-1c80317fa3b1799d\");\n",
       "          const url = new URL(\"/\", window.location);\n",
       "          const port = 6007;\n",
       "          if (port) {\n",
       "            url.port = port;\n",
       "          }\n",
       "          frame.src = url;\n",
       "        })();\n",
       "      </script>\n",
       "    "
      ],
      "text/plain": [
       "<IPython.core.display.HTML object>"
      ]
     },
     "metadata": {},
     "output_type": "display_data"
    }
   ],
   "source": [
    "%load_ext tensorboard\n",
    "%tensorboard --logdir experiment.train.log_dir"
   ]
  },
  {
   "cell_type": "code",
   "execution_count": null,
   "metadata": {},
   "outputs": [],
   "source": [
    "from megatron.model import Megatron\n",
    "\n",
    "model = Megatron(\n",
    "    depth_anything_size=experiment.dataset.depth_anything_size,\n",
    "    repvit_model=experiment.dataloader.repvit_model,\n",
    "    d_model=experiment.transformer.d_model,\n",
    "    max_len_pe=experiment.dataset.num_video,\n",
    "    n_heads=experiment.transformer.n_heads,\n",
    "    n_layers=experiment.transformer.n_layers,\n",
    "    d_ff=experiment.transformer.d_ff,\n",
    ").from_pretrained(Path(experiment.train.log_dir))\n",
    "model.inference(\n",
    "    video_path=Path(\n",
    "        r\"H:\\My Drive\\Megatron_DeepFake\\dataset\\manipulated_sequences\\DeepFakeDetection\\raw\\videos\\01_03__hugging_happy__ISF9SP4G.mp4\"\n",
    "    )\n",
    ")"
   ]
  }
 ],
 "metadata": {
  "kernelspec": {
   "display_name": ".venv",
   "language": "python",
   "name": "python3"
  },
  "language_info": {
   "codemirror_mode": {
    "name": "ipython",
    "version": 3
   },
   "file_extension": ".py",
   "mimetype": "text/x-python",
   "name": "python",
   "nbconvert_exporter": "python",
   "pygments_lexer": "ipython3",
   "version": "3.10.11"
  }
 },
 "nbformat": 4,
 "nbformat_minor": 2
}
