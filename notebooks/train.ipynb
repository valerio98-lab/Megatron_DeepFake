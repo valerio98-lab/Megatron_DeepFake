{
 "cells": [
  {
   "cell_type": "code",
   "execution_count": 10,
   "metadata": {},
   "outputs": [],
   "source": [
    "experiment = {\n",
    "            \"dataset\": {\n",
    "                \"video_path\": r\"H:\\My Drive\\Megatron_DeepFake\\dataset\",\n",
    "                \"num_frames\": 5,\n",
    "                \"random_initial_frame\": True,\n",
    "                \"depth_anything_size\": \"Small\",\n",
    "                \"num_video\": 40,\n",
    "                \"frame_threshold\": 10,\n",
    "            },\n",
    "            \"dataloader\": {\n",
    "                \"batch_size\": 4,\n",
    "                \"repvit_model\": \"repvit_m0_9.dist_300e_in1k\",\n",
    "            },\n",
    "            \"transformer\": {\n",
    "                \"d_model\": 384,\n",
    "                \"n_heads\": 2,\n",
    "                \"n_layers\": 1,\n",
    "                \"d_ff\": 1024,\n",
    "            },\n",
    "            \"train\": {\n",
    "                \"learning_rate\": 0.001,\n",
    "                \"epochs\": 2,\n",
    "                \"log_dir\": \"../data/runs/exp1\",\n",
    "                \"early_stop_counter\": 10,\n",
    "                \"train_size\": 0.5,\n",
    "                \"val_size\": 0.3,\n",
    "                \"test_size\": 0.2,\n",
    "                \"seed\": 42,\n",
    "            },\n",
    "        }"
   ]
  },
  {
   "cell_type": "code",
   "execution_count": 7,
   "metadata": {},
   "outputs": [
    {
     "name": "stdout",
     "output_type": "stream",
     "text": [
      "[False False  True ... False False False]\n"
     ]
    }
   ],
   "source": [
    "# for i in trainer.train_dataloader.dataset.video_paths:\n",
    "#     print(i)\n",
    "# for elem in trainer.train_dataloader.dataset.dataset.video_paths:\n",
    "#     print(\"manipulated\" in elem)\n",
    "import numpy as np\n",
    "print(np.array([\"manipulated\" in elem for elem in trainer.train_dataloader.dataset.dataset.video_paths]))\n",
    "# print(np.array([\"manipulated\" in elem for elem in trainer.val_dataloader.dataset.dataset.video_paths]).all())\n",
    "\n",
    "# print(trainer.train_dataloader.dataset.dataset.video_paths)"
   ]
  },
  {
   "cell_type": "code",
   "execution_count": 11,
   "metadata": {},
   "outputs": [
    {
     "data": {
      "application/vnd.jupyter.widget-view+json": {
       "model_id": "6e99fdd2dc4049778b9044465f1f4911",
       "version_major": 2,
       "version_minor": 0
      },
      "text/plain": [
       "Training and validating:   0%|          | 0/2 [00:00<?, ?it/s]"
      ]
     },
     "metadata": {},
     "output_type": "display_data"
    },
    {
     "data": {
      "application/vnd.jupyter.widget-view+json": {
       "model_id": "0cebd089179a48f0b8487d54a1ca5025",
       "version_major": 2,
       "version_minor": 0
      },
      "text/plain": [
       "TRAINING:   0%|          | 0/245.25 [00:00<?, ?it/s]"
      ]
     },
     "metadata": {},
     "output_type": "display_data"
    },
    {
     "name": "stdout",
     "output_type": "stream",
     "text": [
      "logits.shape=torch.Size([3, 2])\n",
      "Nel train, bce,  loss.item()=1.094249963760376\n"
     ]
    }
   ],
   "source": [
    "from megatron.trainer import Config,Trainer\n",
    "\n",
    "config = Config(**experiment)\n",
    "trainer = Trainer(config)\n",
    "trainer.train()\n"
   ]
  },
  {
   "cell_type": "code",
   "execution_count": null,
   "metadata": {},
   "outputs": [],
   "source": [
    "%load_ext tensorboard\n",
    "\n",
    "# Start TensorBoard\n",
    "log_dir = config.train.log_dir\n",
    "%tensorboard --logdir {log_dir}"
   ]
  }
 ],
 "metadata": {
  "kernelspec": {
   "display_name": ".venv",
   "language": "python",
   "name": "python3"
  },
  "language_info": {
   "codemirror_mode": {
    "name": "ipython",
    "version": 3
   },
   "file_extension": ".py",
   "mimetype": "text/x-python",
   "name": "python",
   "nbconvert_exporter": "python",
   "pygments_lexer": "ipython3",
   "version": "3.10.11"
  }
 },
 "nbformat": 4,
 "nbformat_minor": 2
}
