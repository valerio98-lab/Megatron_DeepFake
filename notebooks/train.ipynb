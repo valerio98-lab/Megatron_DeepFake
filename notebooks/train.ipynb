{
 "cells": [
  {
   "cell_type": "code",
   "execution_count": 1,
   "metadata": {},
   "outputs": [],
   "source": [
    "experiments = [\n",
    "    {\n",
    "        \"dataset\": {\n",
    "            \"video_path\": r\"H:\\My Drive\\Megatron_DeepFake\\dataset\",\n",
    "            \"num_frames\": 1,\n",
    "            \"random_initial_frame\": True,\n",
    "            \"depth_anything_size\": \"Small\",\n",
    "            \"num_video\" : 1\n",
    "        },\n",
    "        \"dataloader\": {\n",
    "            \"batch_size\": 4,\n",
    "            \"repvit_model\": \"repvit_m0_9.dist_300e_in1k\",\n",
    "            \"num_workers\": 0,\n",
    "            \"pin_memory\":False\n",
    "        },\n",
    "        \"transformer\": {\n",
    "            \"d_model\": 384,\n",
    "            \"n_heads\": 2,\n",
    "            \"n_layers\": 1,\n",
    "            \"d_ff\": 1024,\n",
    "        },\n",
    "        \"train\": {\n",
    "            \"learning_rate\": 0.001,\n",
    "            \"epochs\": 3,\n",
    "            \"tmp_dir\" : \"./../tmp\",\n",
    "            \"log_dir\": \"./../data/runs/exp1\",\n",
    "            \"early_stop_counter\": 10,\n",
    "            \"resume_training\": False,\n",
    "            \"train_size\": 0.5,\n",
    "            \"val_size\": 0.3,\n",
    "            \"test_size\": 0.2,\n",
    "        },\n",
    "        \"seed\": 42,\n",
    "    }\n",
    "]"
   ]
  },
  {
   "cell_type": "code",
   "execution_count": 2,
   "metadata": {},
   "outputs": [
    {
     "data": {
      "application/vnd.jupyter.widget-view+json": {
       "model_id": "ae0aa1c832544f2c83255171855ceec6",
       "version_major": 2,
       "version_minor": 0
      },
      "text/plain": [
       "Caching train data:   0%|          | 0/2 [00:00<?, ?it/s]"
      ]
     },
     "metadata": {},
     "output_type": "display_data"
    },
    {
     "data": {
      "application/vnd.jupyter.widget-view+json": {
       "model_id": "d35ccaf501d1494888bce52352a0b342",
       "version_major": 2,
       "version_minor": 0
      },
      "text/plain": [
       "Loading cached val data:   0%|          | 0/1 [00:00<?, ?it/s]"
      ]
     },
     "metadata": {},
     "output_type": "display_data"
    },
    {
     "data": {
      "application/vnd.jupyter.widget-view+json": {
       "model_id": "7f3eeb6814684565868b44356b3f3c23",
       "version_major": 2,
       "version_minor": 0
      },
      "text/plain": [
       "Caching val data:   0%|          | 0/1 [00:00<?, ?it/s]"
      ]
     },
     "metadata": {},
     "output_type": "display_data"
    },
    {
     "data": {
      "application/vnd.jupyter.widget-view+json": {
       "model_id": "fed3b03e3b0f4a63b86ee46d9d52fc3b",
       "version_major": 2,
       "version_minor": 0
      },
      "text/plain": [
       "Training and validating:   0%|          | 0/3 [00:00<?, ?it/s]"
      ]
     },
     "metadata": {},
     "output_type": "display_data"
    },
    {
     "data": {
      "application/vnd.jupyter.widget-view+json": {
       "model_id": "33ebb2885b4444fd9a2f7060721e0130",
       "version_major": 2,
       "version_minor": 0
      },
      "text/plain": [
       "TRAINING:   0%|          | 0/2 [00:00<?, ?it/s]"
      ]
     },
     "metadata": {},
     "output_type": "display_data"
    },
    {
     "data": {
      "application/vnd.jupyter.widget-view+json": {
       "model_id": "844790b071d74da6bb7b56af67c18693",
       "version_major": 2,
       "version_minor": 0
      },
      "text/plain": [
       "VALIDATING:   0%|          | 0/1 [00:00<?, ?it/s]"
      ]
     },
     "metadata": {},
     "output_type": "display_data"
    },
    {
     "name": "stdout",
     "output_type": "stream",
     "text": [
      "\n",
      "Epoch: 0 ==> validation_loss=18.91057777404785, validation_accuracy=tensor(0.3333, device='cuda:0'), validation_f1_score=tensor(0.2500, device='cuda:0')\n",
      "\n"
     ]
    },
    {
     "data": {
      "application/vnd.jupyter.widget-view+json": {
       "model_id": "072d3e40b5084b908acfc95b81ea1b0f",
       "version_major": 2,
       "version_minor": 0
      },
      "text/plain": [
       "TRAINING:   0%|          | 0/2 [00:00<?, ?it/s]"
      ]
     },
     "metadata": {},
     "output_type": "display_data"
    },
    {
     "data": {
      "application/vnd.jupyter.widget-view+json": {
       "model_id": "826a4856479e437d8dbe092424c13916",
       "version_major": 2,
       "version_minor": 0
      },
      "text/plain": [
       "VALIDATING:   0%|          | 0/1 [00:00<?, ?it/s]"
      ]
     },
     "metadata": {},
     "output_type": "display_data"
    },
    {
     "name": "stdout",
     "output_type": "stream",
     "text": [
      "\n",
      "Epoch: 1 ==> validation_loss=5.611718654632568, validation_accuracy=tensor(0.3333, device='cuda:0'), validation_f1_score=tensor(0.2500, device='cuda:0')\n",
      "\n"
     ]
    },
    {
     "data": {
      "application/vnd.jupyter.widget-view+json": {
       "model_id": "22ae9f80aef540d5881c563ac2b6eb10",
       "version_major": 2,
       "version_minor": 0
      },
      "text/plain": [
       "TRAINING:   0%|          | 0/2 [00:00<?, ?it/s]"
      ]
     },
     "metadata": {},
     "output_type": "display_data"
    },
    {
     "data": {
      "application/vnd.jupyter.widget-view+json": {
       "model_id": "a81c2c5db98741dabcba63cb86b56a9d",
       "version_major": 2,
       "version_minor": 0
      },
      "text/plain": [
       "VALIDATING:   0%|          | 0/1 [00:00<?, ?it/s]"
      ]
     },
     "metadata": {},
     "output_type": "display_data"
    },
    {
     "name": "stdout",
     "output_type": "stream",
     "text": [
      "\n",
      "Epoch: 2 ==> validation_loss=0.6645719408988953, validation_accuracy=tensor(0.6667, device='cuda:0'), validation_f1_score=tensor(0.4000, device='cuda:0')\n",
      "\n",
      "Optimized train with 3 epochs and validate without cache: 0.0h:0.0m:12s:38ms\n"
     ]
    }
   ],
   "source": [
    "import torch \n",
    "import random\n",
    "import numpy as np\n",
    "from megatron.trainer import Trainer\n",
    "from megatron.configuration import ExperimentConfig\n",
    "import time\n",
    "\n",
    "# Set cuda operations deterministic\n",
    "torch.backends.cudnn.deterministic = True\n",
    "\n",
    "config = ExperimentConfig(**experiments[0])\n",
    "random.seed(config.seed)\n",
    "np.random.seed(config.seed)\n",
    "torch.manual_seed(config.seed)\n",
    "trainer = Trainer(config)\n",
    "\n",
    "\n",
    "\n",
    "start_time = time.time() \n",
    "trainer.optimized_train_and_validate()\n",
    "end_time = time.time()\n",
    "\n",
    "# Calculate the duration in seconds\n",
    "duration_seconds = end_time - start_time\n",
    "hours, remainder = divmod(duration_seconds, 3600)\n",
    "minutes, seconds = divmod(remainder, 60)\n",
    "milliseconds = int((seconds - int(seconds)) * 1000)\n",
    "seconds = int(seconds)\n",
    "\n",
    "print(f\"Optimized train with 3 epochs and validate without cache: {hours}h:{minutes}m:{seconds}s:{milliseconds}ms\")\n",
    "\n",
    "# Try to dealloc\n",
    "trainer = None\n",
    "del trainer"
   ]
  },
  {
   "cell_type": "code",
   "execution_count": null,
   "metadata": {},
   "outputs": [],
   "source": [
    "import torch \n",
    "import random\n",
    "import numpy as np\n",
    "from megatron.trainer import Trainer\n",
    "from megatron.configuration import ExperimentConfig\n",
    "import time\n",
    "\n",
    "# Set cuda operations deterministic\n",
    "torch.backends.cudnn.deterministic = True\n",
    "\n",
    "config = ExperimentConfig(**experiments[0])\n",
    "random.seed(config.seed)\n",
    "np.random.seed(config.seed)\n",
    "torch.manual_seed(config.seed)\n",
    "config.train.epochs = 100\n",
    "trainer = Trainer(config)\n",
    "\n",
    "start_time = time.time() \n",
    "trainer.optimized_train_and_validate()\n",
    "end_time = time.time()\n",
    "\n",
    "# Calculate the duration in seconds\n",
    "duration_seconds = end_time - start_time\n",
    "hours, remainder = divmod(duration_seconds, 3600)\n",
    "minutes, seconds = divmod(remainder, 60)\n",
    "milliseconds = int((seconds - int(seconds)) * 1000)\n",
    "seconds = int(seconds)\n",
    "\n",
    "print(f\"Optimized train  and validate with cache, 100 epochs: {hours}h:{minutes}m:{seconds}s:{milliseconds}ms\")\n",
    "\n",
    "# Try to dealloc\n",
    "trainer = None\n",
    "del trainer"
   ]
  },
  {
   "cell_type": "code",
   "execution_count": null,
   "metadata": {},
   "outputs": [],
   "source": [
    "import torch \n",
    "import random\n",
    "import numpy as np\n",
    "from megatron.trainer import Trainer\n",
    "from megatron.configuration import ExperimentConfig\n",
    "import time\n",
    "\n",
    "# Set cuda operations deterministic\n",
    "torch.backends.cudnn.deterministic = True\n",
    "\n",
    "config = ExperimentConfig(**experiments[0])\n",
    "random.seed(config.seed)\n",
    "np.random.seed(config.seed)\n",
    "torch.manual_seed(config.seed)\n",
    "trainer = Trainer(config)\n",
    "\n",
    "start_time = time.time() \n",
    "trainer.train_and_validate()\n",
    "end_time = time.time()\n",
    "\n",
    "# Calculate the duration in seconds\n",
    "duration_seconds = end_time - start_time\n",
    "hours, remainder = divmod(duration_seconds, 3600)\n",
    "minutes, seconds = divmod(remainder, 60)\n",
    "milliseconds = int((seconds - int(seconds)) * 1000)\n",
    "seconds = int(seconds)\n",
    "\n",
    "print(f\"Unptimized train and validate: {hours}h:{minutes}m:{seconds}s:{milliseconds}ms\")\n",
    "\n",
    "# Try to dealloc\n",
    "trainer = None\n",
    "del trainer"
   ]
  },
  {
   "cell_type": "code",
   "execution_count": null,
   "metadata": {},
   "outputs": [],
   "source": [
    "from megatron.model import Megatron\n",
    "from pathlib import Path\n",
    "\n",
    "config = ExperimentConfig(**experiments[0])\n",
    "model = Megatron(\n",
    "    depth_anything_size = config.dataset.depth_anything_size,\n",
    "    repvit_model= config.dataloader.repvit_model,\n",
    "    d_model = config.transformer.d_model,\n",
    "    max_len_pe=config.dataset.num_video,\n",
    "    n_heads = config.transformer.n_heads,\n",
    "    n_layers = config.transformer.n_layers,\n",
    "    d_ff  = config.transformer.d_ff,\n",
    ").from_pretrained(Path(config.train.log_dir))\n",
    "model.inference(video_path =Path(r\"H:\\My Drive\\Megatron_DeepFake\\dataset\\manipulated_sequences\\DeepFakeDetection\\raw\\videos\\01_03__hugging_happy__ISF9SP4G.mp4\"))"
   ]
  }
 ],
 "metadata": {
  "kernelspec": {
   "display_name": ".venv",
   "language": "python",
   "name": "python3"
  },
  "language_info": {
   "codemirror_mode": {
    "name": "ipython",
    "version": 3
   },
   "file_extension": ".py",
   "mimetype": "text/x-python",
   "name": "python",
   "nbconvert_exporter": "python",
   "pygments_lexer": "ipython3",
   "version": "3.10.11"
  }
 },
 "nbformat": 4,
 "nbformat_minor": 2
}
