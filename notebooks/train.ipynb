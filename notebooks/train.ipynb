{
 "cells": [
  {
   "cell_type": "code",
   "execution_count": 1,
   "metadata": {},
   "outputs": [],
   "source": [
    "experiment = {\n",
    "        \"dataset\": {\n",
    "            \"video_path\": r\"H:\\My Drive\\Megatron_DeepFake\\dataset\",\n",
    "            \"num_frames\": 1,\n",
    "            \"random_initial_frame\": True,\n",
    "            \"depth_anything_size\": \"Small\",\n",
    "            \"num_video\": 100,\n",
    "            \"frame_threshold\": 10,\n",
    "        },\n",
    "        \"dataloader\": {\n",
    "            \"batch_size\": 32,\n",
    "            \"repvit_model\": \"repvit_m0_9.dist_300e_in1k\",\n",
    "        },\n",
    "        \"transformer\": {\n",
    "            \"d_model\": 384,\n",
    "            \"n_heads\": 2,\n",
    "            \"n_layers\": 1,\n",
    "            \"d_ff\": 1024,\n",
    "        },\n",
    "        \"train\": {\n",
    "            \"learning_rate\": 0.001,\n",
    "            \"epochs\": 10,\n",
    "            \"log_dir\": \"../data/runs/exp1\",\n",
    "            \"early_stop_counter\": 10,\n",
    "            \"train_size\": 0.5,\n",
    "            \"val_size\": 0.3,\n",
    "            \"test_size\": 0.2,\n",
    "        },\n",
    "        \"seed\": 42,\n",
    "    }"
   ]
  },
  {
   "cell_type": "code",
   "execution_count": 2,
   "metadata": {},
   "outputs": [
    {
     "name": "stderr",
     "output_type": "stream",
     "text": [
      "Hardware accelerator e.g. GPU is available in the environment, but no `device` argument is passed to the `Pipeline` object. Model will be on CPU.\n"
     ]
    },
    {
     "data": {
      "application/vnd.jupyter.widget-view+json": {
       "model_id": "c5144f3c350740f0a66208d4f554e3b4",
       "version_major": 2,
       "version_minor": 0
      },
      "text/plain": [
       "Training and validating:   0%|          | 0/10 [00:00<?, ?it/s]"
      ]
     },
     "metadata": {},
     "output_type": "display_data"
    },
    {
     "data": {
      "application/vnd.jupyter.widget-view+json": {
       "model_id": "e708a75cceb14904906a6ff1f1b47c75",
       "version_major": 2,
       "version_minor": 0
      },
      "text/plain": [
       "TRAINING:   0%|          | 0/2 [00:00<?, ?it/s]"
      ]
     },
     "metadata": {},
     "output_type": "display_data"
    },
    {
     "name": "stdout",
     "output_type": "stream",
     "text": [
      "Nella train train_loss=0\n",
      "Nella train  loss.item()=0.6996505856513977\n",
      "Nella train train_loss=0.6996505856513977\n",
      "Nella train  loss.item()=14.322869300842285\n",
      "EXIT TRAIN...\n"
     ]
    },
    {
     "data": {
      "application/vnd.jupyter.widget-view+json": {
       "model_id": "ffc8e8ba7d7d4e9ca326bea666cae75f",
       "version_major": 2,
       "version_minor": 0
      },
      "text/plain": [
       "VALIDATING:   0%|          | 0/1 [00:00<?, ?it/s]"
      ]
     },
     "metadata": {},
     "output_type": "display_data"
    },
    {
     "name": "stdout",
     "output_type": "stream",
     "text": [
      "Nella validation validation_loss=0\n",
      "Nella validation  loss.item()=4.61697244644165\n",
      "EXIT VALIDATION...\n",
      "SAVING CHECKPOINT...\n",
      "SAVING RUN FOR TENSORBOARD...\n"
     ]
    },
    {
     "data": {
      "application/vnd.jupyter.widget-view+json": {
       "model_id": "712f857fc8af4393bcd0a911411631c7",
       "version_major": 2,
       "version_minor": 0
      },
      "text/plain": [
       "TRAINING:   0%|          | 0/2 [00:00<?, ?it/s]"
      ]
     },
     "metadata": {},
     "output_type": "display_data"
    },
    {
     "name": "stdout",
     "output_type": "stream",
     "text": [
      "Nella train train_loss=0\n",
      "Nella train  loss.item()=4.284056186676025\n",
      "Nella train train_loss=4.284056186676025\n",
      "Nella train  loss.item()=1.9251399040222168\n",
      "EXIT TRAIN...\n"
     ]
    },
    {
     "data": {
      "application/vnd.jupyter.widget-view+json": {
       "model_id": "554571c01fc34cac926d051c7898753b",
       "version_major": 2,
       "version_minor": 0
      },
      "text/plain": [
       "VALIDATING:   0%|          | 0/1 [00:00<?, ?it/s]"
      ]
     },
     "metadata": {},
     "output_type": "display_data"
    },
    {
     "name": "stdout",
     "output_type": "stream",
     "text": [
      "Nella validation validation_loss=0\n",
      "Nella validation  loss.item()=1.8478541374206543\n",
      "EXIT VALIDATION...\n",
      "SAVING CHECKPOINT...\n",
      "SAVING RUN FOR TENSORBOARD...\n"
     ]
    },
    {
     "data": {
      "application/vnd.jupyter.widget-view+json": {
       "model_id": "a717b643f6f041aaa9e14a807cfde32f",
       "version_major": 2,
       "version_minor": 0
      },
      "text/plain": [
       "TRAINING:   0%|          | 0/2 [00:00<?, ?it/s]"
      ]
     },
     "metadata": {},
     "output_type": "display_data"
    },
    {
     "name": "stdout",
     "output_type": "stream",
     "text": [
      "Nella train train_loss=0\n",
      "Nella train  loss.item()=2.3753738403320312\n",
      "Nella train train_loss=2.3753738403320312\n",
      "Nella train  loss.item()=1.835766315460205\n",
      "EXIT TRAIN...\n"
     ]
    },
    {
     "data": {
      "application/vnd.jupyter.widget-view+json": {
       "model_id": "1393266bdc224614ac70779daa84847a",
       "version_major": 2,
       "version_minor": 0
      },
      "text/plain": [
       "VALIDATING:   0%|          | 0/1 [00:00<?, ?it/s]"
      ]
     },
     "metadata": {},
     "output_type": "display_data"
    },
    {
     "name": "stdout",
     "output_type": "stream",
     "text": [
      "Nella validation validation_loss=0\n",
      "Nella validation  loss.item()=0.5914026498794556\n",
      "EXIT VALIDATION...\n",
      "SAVING CHECKPOINT...\n",
      "SAVING RUN FOR TENSORBOARD...\n"
     ]
    },
    {
     "data": {
      "application/vnd.jupyter.widget-view+json": {
       "model_id": "08b583769cfc4054b21fc3fddd3f629b",
       "version_major": 2,
       "version_minor": 0
      },
      "text/plain": [
       "TRAINING:   0%|          | 0/2 [00:00<?, ?it/s]"
      ]
     },
     "metadata": {},
     "output_type": "display_data"
    },
    {
     "name": "stdout",
     "output_type": "stream",
     "text": [
      "Nella train train_loss=0\n",
      "Nella train  loss.item()=0.6365601420402527\n",
      "Nella train train_loss=0.6365601420402527\n",
      "Nella train  loss.item()=2.3653640747070312\n",
      "EXIT TRAIN...\n"
     ]
    },
    {
     "data": {
      "application/vnd.jupyter.widget-view+json": {
       "model_id": "616ed6406e414c3cb697d660f4cee82d",
       "version_major": 2,
       "version_minor": 0
      },
      "text/plain": [
       "VALIDATING:   0%|          | 0/1 [00:00<?, ?it/s]"
      ]
     },
     "metadata": {},
     "output_type": "display_data"
    },
    {
     "name": "stdout",
     "output_type": "stream",
     "text": [
      "Nella validation validation_loss=0\n",
      "Nella validation  loss.item()=1.5828057527542114\n",
      "EXIT VALIDATION...\n",
      "SAVING CHECKPOINT...\n",
      "SAVING RUN FOR TENSORBOARD...\n"
     ]
    },
    {
     "data": {
      "application/vnd.jupyter.widget-view+json": {
       "model_id": "31bccdde5ec04abc9ba85e0e288d1f2c",
       "version_major": 2,
       "version_minor": 0
      },
      "text/plain": [
       "TRAINING:   0%|          | 0/2 [00:00<?, ?it/s]"
      ]
     },
     "metadata": {},
     "output_type": "display_data"
    },
    {
     "name": "stdout",
     "output_type": "stream",
     "text": [
      "Nella train train_loss=0\n",
      "Nella train  loss.item()=1.6193265914916992\n",
      "Nella train train_loss=1.6193265914916992\n",
      "Nella train  loss.item()=1.0820220708847046\n",
      "EXIT TRAIN...\n"
     ]
    },
    {
     "data": {
      "application/vnd.jupyter.widget-view+json": {
       "model_id": "5bc668a60f8e4795b503232389705a07",
       "version_major": 2,
       "version_minor": 0
      },
      "text/plain": [
       "VALIDATING:   0%|          | 0/1 [00:00<?, ?it/s]"
      ]
     },
     "metadata": {},
     "output_type": "display_data"
    },
    {
     "name": "stdout",
     "output_type": "stream",
     "text": [
      "Nella validation validation_loss=0\n",
      "Nella validation  loss.item()=0.9076511859893799\n",
      "EXIT VALIDATION...\n",
      "SAVING CHECKPOINT...\n",
      "SAVING RUN FOR TENSORBOARD...\n"
     ]
    },
    {
     "data": {
      "application/vnd.jupyter.widget-view+json": {
       "model_id": "3c8a606aed5644758fdc7af53635064b",
       "version_major": 2,
       "version_minor": 0
      },
      "text/plain": [
       "TRAINING:   0%|          | 0/2 [00:00<?, ?it/s]"
      ]
     },
     "metadata": {},
     "output_type": "display_data"
    },
    {
     "name": "stdout",
     "output_type": "stream",
     "text": [
      "Nella train train_loss=0\n",
      "Nella train  loss.item()=1.0421029329299927\n",
      "Nella train train_loss=1.0421029329299927\n",
      "Nella train  loss.item()=1.5021357536315918\n",
      "EXIT TRAIN...\n"
     ]
    },
    {
     "data": {
      "application/vnd.jupyter.widget-view+json": {
       "model_id": "bf43d32db2f14b4695df59ca8955ede6",
       "version_major": 2,
       "version_minor": 0
      },
      "text/plain": [
       "VALIDATING:   0%|          | 0/1 [00:00<?, ?it/s]"
      ]
     },
     "metadata": {},
     "output_type": "display_data"
    },
    {
     "name": "stdout",
     "output_type": "stream",
     "text": [
      "Nella validation validation_loss=0\n",
      "Nella validation  loss.item()=0.74904465675354\n",
      "EXIT VALIDATION...\n",
      "SAVING CHECKPOINT...\n",
      "SAVING RUN FOR TENSORBOARD...\n"
     ]
    },
    {
     "data": {
      "application/vnd.jupyter.widget-view+json": {
       "model_id": "b0b0be22aed14b59a24d57c3c9ac4eda",
       "version_major": 2,
       "version_minor": 0
      },
      "text/plain": [
       "TRAINING:   0%|          | 0/2 [00:00<?, ?it/s]"
      ]
     },
     "metadata": {},
     "output_type": "display_data"
    },
    {
     "name": "stdout",
     "output_type": "stream",
     "text": [
      "Nella train train_loss=0\n",
      "Nella train  loss.item()=0.858730673789978\n",
      "Nella train train_loss=0.858730673789978\n",
      "Nella train  loss.item()=0.747536301612854\n",
      "EXIT TRAIN...\n"
     ]
    },
    {
     "data": {
      "application/vnd.jupyter.widget-view+json": {
       "model_id": "f6d1aa6c0a2b4141bf12689863e0aac6",
       "version_major": 2,
       "version_minor": 0
      },
      "text/plain": [
       "VALIDATING:   0%|          | 0/1 [00:00<?, ?it/s]"
      ]
     },
     "metadata": {},
     "output_type": "display_data"
    },
    {
     "name": "stdout",
     "output_type": "stream",
     "text": [
      "Nella validation validation_loss=0\n",
      "Nella validation  loss.item()=0.8939804434776306\n",
      "EXIT VALIDATION...\n",
      "SAVING CHECKPOINT...\n",
      "SAVING RUN FOR TENSORBOARD...\n"
     ]
    },
    {
     "data": {
      "application/vnd.jupyter.widget-view+json": {
       "model_id": "41be69662ed84400beeb5b507e29a5b8",
       "version_major": 2,
       "version_minor": 0
      },
      "text/plain": [
       "TRAINING:   0%|          | 0/2 [00:00<?, ?it/s]"
      ]
     },
     "metadata": {},
     "output_type": "display_data"
    },
    {
     "name": "stdout",
     "output_type": "stream",
     "text": [
      "Nella train train_loss=0\n",
      "Nella train  loss.item()=0.844717264175415\n",
      "Nella train train_loss=0.844717264175415\n",
      "Nella train  loss.item()=1.0862807035446167\n",
      "EXIT TRAIN...\n"
     ]
    },
    {
     "data": {
      "application/vnd.jupyter.widget-view+json": {
       "model_id": "ceb95b4453e547929b75189c1a7f0bb5",
       "version_major": 2,
       "version_minor": 0
      },
      "text/plain": [
       "VALIDATING:   0%|          | 0/1 [00:00<?, ?it/s]"
      ]
     },
     "metadata": {},
     "output_type": "display_data"
    },
    {
     "name": "stdout",
     "output_type": "stream",
     "text": [
      "Nella validation validation_loss=0\n",
      "Nella validation  loss.item()=0.9788992404937744\n",
      "EXIT VALIDATION...\n",
      "SAVING CHECKPOINT...\n",
      "SAVING RUN FOR TENSORBOARD...\n"
     ]
    },
    {
     "data": {
      "application/vnd.jupyter.widget-view+json": {
       "model_id": "2681009f959143e9b13ecfa76adef12d",
       "version_major": 2,
       "version_minor": 0
      },
      "text/plain": [
       "TRAINING:   0%|          | 0/2 [00:00<?, ?it/s]"
      ]
     },
     "metadata": {},
     "output_type": "display_data"
    },
    {
     "name": "stdout",
     "output_type": "stream",
     "text": [
      "Nella train train_loss=0\n",
      "Nella train  loss.item()=0.8485995531082153\n",
      "Nella train train_loss=0.8485995531082153\n",
      "Nella train  loss.item()=0.6508005261421204\n",
      "EXIT TRAIN...\n"
     ]
    },
    {
     "data": {
      "application/vnd.jupyter.widget-view+json": {
       "model_id": "d3526c25e2bd4d6bbcc85f255e65b6f7",
       "version_major": 2,
       "version_minor": 0
      },
      "text/plain": [
       "VALIDATING:   0%|          | 0/1 [00:00<?, ?it/s]"
      ]
     },
     "metadata": {},
     "output_type": "display_data"
    },
    {
     "name": "stdout",
     "output_type": "stream",
     "text": [
      "Nella validation validation_loss=0\n",
      "Nella validation  loss.item()=0.5836973786354065\n",
      "EXIT VALIDATION...\n",
      "SAVING CHECKPOINT...\n",
      "SAVING RUN FOR TENSORBOARD...\n"
     ]
    },
    {
     "data": {
      "application/vnd.jupyter.widget-view+json": {
       "model_id": "7ca70e32fda54221aeab01adcf9b25c0",
       "version_major": 2,
       "version_minor": 0
      },
      "text/plain": [
       "TRAINING:   0%|          | 0/2 [00:00<?, ?it/s]"
      ]
     },
     "metadata": {},
     "output_type": "display_data"
    },
    {
     "name": "stdout",
     "output_type": "stream",
     "text": [
      "Nella train train_loss=0\n",
      "Nella train  loss.item()=0.7325311303138733\n",
      "Nella train train_loss=0.7325311303138733\n",
      "Nella train  loss.item()=0.7417834401130676\n",
      "EXIT TRAIN...\n"
     ]
    },
    {
     "data": {
      "application/vnd.jupyter.widget-view+json": {
       "model_id": "305f633c9ef24e56824fd507ff8cebc2",
       "version_major": 2,
       "version_minor": 0
      },
      "text/plain": [
       "VALIDATING:   0%|          | 0/1 [00:00<?, ?it/s]"
      ]
     },
     "metadata": {},
     "output_type": "display_data"
    },
    {
     "name": "stdout",
     "output_type": "stream",
     "text": [
      "Nella validation validation_loss=0\n",
      "Nella validation  loss.item()=0.7184726595878601\n",
      "EXIT VALIDATION...\n",
      "SAVING CHECKPOINT...\n",
      "SAVING RUN FOR TENSORBOARD...\n",
      "Model saved: ..\\data\\runs\\exp1\\models\\TransformerFakeDetector\\TransformerFakeDetector.pth\n"
     ]
    }
   ],
   "source": [
    "import torch \n",
    "import numpy as np\n",
    "from megatron.trainer import Config,Trainer\n",
    "\n",
    "config = Config(**experiment)\n",
    "torch.manual_seed(config.seed)\n",
    "np.random.seed(config.seed)\n",
    "trainer = Trainer(config)\n",
    "trainer.train()\n"
   ]
  },
  {
   "cell_type": "code",
   "execution_count": 4,
   "metadata": {},
   "outputs": [
    {
     "data": {
      "text/plain": [
       "Reusing TensorBoard on port 6007 (pid 15724), started 10:50:36 ago. (Use '!kill 15724' to kill it.)"
      ]
     },
     "metadata": {},
     "output_type": "display_data"
    },
    {
     "data": {
      "text/html": [
       "\n",
       "      <iframe id=\"tensorboard-frame-2a6013a442d75ba8\" width=\"100%\" height=\"800\" frameborder=\"0\">\n",
       "      </iframe>\n",
       "      <script>\n",
       "        (function() {\n",
       "          const frame = document.getElementById(\"tensorboard-frame-2a6013a442d75ba8\");\n",
       "          const url = new URL(\"http://localhost\");\n",
       "          const port = 6007;\n",
       "          if (port) {\n",
       "            url.port = port;\n",
       "          }\n",
       "          frame.src = url;\n",
       "        })();\n",
       "      </script>\n",
       "    "
      ],
      "text/plain": [
       "<IPython.core.display.HTML object>"
      ]
     },
     "metadata": {},
     "output_type": "display_data"
    }
   ],
   "source": [
    "%load_ext tensorboard\n",
    "\n",
    "# Start TensorBoard\n",
    "log_dir = config.train.log_dir\n",
    "%tensorboard --logdir {log_dir}"
   ]
  }
 ],
 "metadata": {
  "kernelspec": {
   "display_name": ".venv",
   "language": "python",
   "name": "python3"
  },
  "language_info": {
   "codemirror_mode": {
    "name": "ipython",
    "version": 3
   },
   "file_extension": ".py",
   "mimetype": "text/x-python",
   "name": "python",
   "nbconvert_exporter": "python",
   "pygments_lexer": "ipython3",
   "version": "3.10.11"
  }
 },
 "nbformat": 4,
 "nbformat_minor": 2
}
