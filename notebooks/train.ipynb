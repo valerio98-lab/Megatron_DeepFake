{
 "cells": [
  {
   "cell_type": "code",
   "execution_count": 1,
   "metadata": {},
   "outputs": [],
   "source": [
    "experiments = [\n",
    "    {\n",
    "        \"dataset\": {\n",
    "            \"video_path\": r\"H:\\My Drive\\Megatron_DeepFake\\dataset\",\n",
    "            \"num_frames\": 5,\n",
    "            \"random_initial_frame\": True,\n",
    "            \"depth_anything_size\": \"Small\",\n",
    "            \"num_video\": 20,\n",
    "        },\n",
    "        \"dataloader\": {\n",
    "            \"batch_size\": 4,\n",
    "            \"repvit_model\": \"repvit_m0_9.dist_300e_in1k\",\n",
    "            \"num_workers\": 0,\n",
    "            \"pin_memory\":False\n",
    "        },\n",
    "        \"transformer\": {\n",
    "            \"d_model\": 384,\n",
    "            \"n_heads\": 2,\n",
    "            \"n_layers\": 1,\n",
    "            \"d_ff\": 1024,\n",
    "        },\n",
    "        \"train\": {\n",
    "            \"learning_rate\": 0.001,\n",
    "            \"epochs\": 3,\n",
    "            \"tmp_dir\" : \"./../tmp\",\n",
    "            \"log_dir\": \"./../data/runs/exp1\",\n",
    "            \"early_stop_counter\": 10,\n",
    "            \"resume_training\": True,\n",
    "            \"train_size\": 0.5,\n",
    "            \"val_size\": 0.3,\n",
    "            \"test_size\": 0.2,\n",
    "        },\n",
    "        \"seed\": 42,\n",
    "    }\n",
    "]"
   ]
  },
  {
   "cell_type": "code",
   "execution_count": 2,
   "metadata": {},
   "outputs": [
    {
     "data": {
      "application/vnd.jupyter.widget-view+json": {
       "model_id": "14d9b3407c1f4071b954cef56fea4cce",
       "version_major": 2,
       "version_minor": 0
      },
      "text/plain": [
       "Loading cached train data:   0%|          | 0/3 [00:00<?, ?it/s]"
      ]
     },
     "metadata": {},
     "output_type": "display_data"
    },
    {
     "name": "stdout",
     "output_type": "stream",
     "text": [
      "start_index=2\n"
     ]
    },
    {
     "data": {
      "application/vnd.jupyter.widget-view+json": {
       "model_id": "8ccc59955e894edf944455e400dba390",
       "version_major": 2,
       "version_minor": 0
      },
      "text/plain": [
       "Caching train data:   0%|          | 0/3 [00:00<?, ?it/s]"
      ]
     },
     "metadata": {},
     "output_type": "display_data"
    },
    {
     "data": {
      "application/vnd.jupyter.widget-view+json": {
       "model_id": "4c853390d14641a9a2c73965638e43b4",
       "version_major": 2,
       "version_minor": 0
      },
      "text/plain": [
       "Loading cached val data:   0%|          | 0/2 [00:00<?, ?it/s]"
      ]
     },
     "metadata": {},
     "output_type": "display_data"
    },
    {
     "name": "stdout",
     "output_type": "stream",
     "text": [
      "start_index=0\n"
     ]
    },
    {
     "data": {
      "application/vnd.jupyter.widget-view+json": {
       "model_id": "0d536d19a5334058bc394bdfae81f1fe",
       "version_major": 2,
       "version_minor": 0
      },
      "text/plain": [
       "Caching val data:   0%|          | 0/2 [00:00<?, ?it/s]"
      ]
     },
     "metadata": {},
     "output_type": "display_data"
    },
    {
     "name": "stderr",
     "output_type": "stream",
     "text": [
      "You seem to be using the pipelines sequentially on GPU. In order to maximize efficiency please use a dataset\n"
     ]
    },
    {
     "data": {
      "application/vnd.jupyter.widget-view+json": {
       "model_id": "498d236f21054f8f8e462a1a979b90fd",
       "version_major": 2,
       "version_minor": 0
      },
      "text/plain": [
       "Training and validating:   0%|          | 0/3 [00:00<?, ?it/s]"
      ]
     },
     "metadata": {},
     "output_type": "display_data"
    },
    {
     "data": {
      "application/vnd.jupyter.widget-view+json": {
       "model_id": "9e6c6e2bbe754c7d8421a3fa98bb4417",
       "version_major": 2,
       "version_minor": 0
      },
      "text/plain": [
       "TRAINING:   0%|          | 0/3 [00:00<?, ?it/s]"
      ]
     },
     "metadata": {},
     "output_type": "display_data"
    },
    {
     "data": {
      "application/vnd.jupyter.widget-view+json": {
       "model_id": "02d425b0288244f0b96fa96ae0f16618",
       "version_major": 2,
       "version_minor": 0
      },
      "text/plain": [
       "VALIDATING:   0%|          | 0/2 [00:00<?, ?it/s]"
      ]
     },
     "metadata": {},
     "output_type": "display_data"
    },
    {
     "name": "stderr",
     "output_type": "stream",
     "text": [
      "c:\\Users\\josed\\Documents\\Megatron_DeepFake\\.venv\\lib\\site-packages\\torchmetrics\\utilities\\prints.py:43: UserWarning: The ``compute`` method of metric BinaryAccuracy was called before the ``update`` method which may lead to errors, as metric states have not yet been updated.\n",
      "  warnings.warn(*args, **kwargs)  # noqa: B028\n",
      "c:\\Users\\josed\\Documents\\Megatron_DeepFake\\.venv\\lib\\site-packages\\torchmetrics\\utilities\\prints.py:43: UserWarning: The ``compute`` method of metric MulticlassF1Score was called before the ``update`` method which may lead to errors, as metric states have not yet been updated.\n",
      "  warnings.warn(*args, **kwargs)  # noqa: B028\n"
     ]
    },
    {
     "name": "stdout",
     "output_type": "stream",
     "text": [
      "\n",
      "Epoch: 0 ==> validation_loss=0.8548561260104179, validation_accuracy=tensor(0., device='cuda:0'), validation_f1_score=tensor(0., device='cuda:0')\n",
      "\n"
     ]
    },
    {
     "data": {
      "application/vnd.jupyter.widget-view+json": {
       "model_id": "598846d8981645898c233e5b700c95cf",
       "version_major": 2,
       "version_minor": 0
      },
      "text/plain": [
       "TRAINING:   0%|          | 0/3 [00:00<?, ?it/s]"
      ]
     },
     "metadata": {},
     "output_type": "display_data"
    },
    {
     "data": {
      "application/vnd.jupyter.widget-view+json": {
       "model_id": "051bc801c69945a092535c9f35ba9ab7",
       "version_major": 2,
       "version_minor": 0
      },
      "text/plain": [
       "VALIDATING:   0%|          | 0/2 [00:00<?, ?it/s]"
      ]
     },
     "metadata": {},
     "output_type": "display_data"
    },
    {
     "name": "stdout",
     "output_type": "stream",
     "text": [
      "\n",
      "Epoch: 1 ==> validation_loss=0.7405514270067215, validation_accuracy=tensor(0., device='cuda:0'), validation_f1_score=tensor(0., device='cuda:0')\n",
      "\n"
     ]
    },
    {
     "data": {
      "application/vnd.jupyter.widget-view+json": {
       "model_id": "3ddb860127104694b2abbec96afbfc40",
       "version_major": 2,
       "version_minor": 0
      },
      "text/plain": [
       "TRAINING:   0%|          | 0/3 [00:00<?, ?it/s]"
      ]
     },
     "metadata": {},
     "output_type": "display_data"
    },
    {
     "data": {
      "application/vnd.jupyter.widget-view+json": {
       "model_id": "0cb4e95b9cd14857a8bd6cccfbebf63f",
       "version_major": 2,
       "version_minor": 0
      },
      "text/plain": [
       "VALIDATING:   0%|          | 0/2 [00:00<?, ?it/s]"
      ]
     },
     "metadata": {},
     "output_type": "display_data"
    },
    {
     "name": "stdout",
     "output_type": "stream",
     "text": [
      "\n",
      "Epoch: 2 ==> validation_loss=0.7309392690658569, validation_accuracy=tensor(0., device='cuda:0'), validation_f1_score=tensor(0., device='cuda:0')\n",
      "\n",
      "Optimized train with 3 epochs and validate without cache: 0.0h:1.0m:14s:608ms\n"
     ]
    }
   ],
   "source": [
    "import torch \n",
    "import random\n",
    "import numpy as np\n",
    "from megatron.trainer import Trainer\n",
    "from megatron.configuration import ExperimentConfig\n",
    "import time\n",
    "\n",
    "# Set cuda operations deterministic\n",
    "torch.backends.cudnn.deterministic = True\n",
    "\n",
    "config = ExperimentConfig(**experiments[0])\n",
    "random.seed(config.seed)\n",
    "np.random.seed(config.seed)\n",
    "torch.manual_seed(config.seed)\n",
    "trainer = Trainer(config)\n",
    "\n",
    "start_time = time.time() \n",
    "trainer.optimized_train_and_validate()\n",
    "end_time = time.time()\n",
    "\n",
    "# Calculate the duration in seconds\n",
    "duration_seconds = end_time - start_time\n",
    "hours, remainder = divmod(duration_seconds, 3600)\n",
    "minutes, seconds = divmod(remainder, 60)\n",
    "milliseconds = int((seconds - int(seconds)) * 1000)\n",
    "seconds = int(seconds)\n",
    "\n",
    "print(f\"Optimized train with 3 epochs and validate without cache: {hours}h:{minutes}m:{seconds}s:{milliseconds}ms\")\n",
    "\n",
    "# Try to dealloc\n",
    "trainer = None\n",
    "del trainer"
   ]
  },
  {
   "cell_type": "code",
   "execution_count": null,
   "metadata": {},
   "outputs": [],
   "source": [
    "import torch \n",
    "import random\n",
    "import numpy as np\n",
    "from megatron.trainer import Trainer\n",
    "from megatron.configuration import ExperimentConfig\n",
    "import time\n",
    "\n",
    "# Set cuda operations deterministic\n",
    "torch.backends.cudnn.deterministic = True\n",
    "\n",
    "config = ExperimentConfig(**experiments[0])\n",
    "random.seed(config.seed)\n",
    "np.random.seed(config.seed)\n",
    "torch.manual_seed(config.seed)\n",
    "config.train.epochs = 100\n",
    "trainer = Trainer(config)\n",
    "\n",
    "start_time = time.time() \n",
    "trainer.optimized_train_and_validate()\n",
    "end_time = time.time()\n",
    "\n",
    "# Calculate the duration in seconds\n",
    "duration_seconds = end_time - start_time\n",
    "hours, remainder = divmod(duration_seconds, 3600)\n",
    "minutes, seconds = divmod(remainder, 60)\n",
    "milliseconds = int((seconds - int(seconds)) * 1000)\n",
    "seconds = int(seconds)\n",
    "\n",
    "print(f\"Optimized train  and validate with cache, 100 epochs: {hours}h:{minutes}m:{seconds}s:{milliseconds}ms\")\n",
    "\n",
    "# Try to dealloc\n",
    "trainer = None\n",
    "del trainer"
   ]
  },
  {
   "cell_type": "code",
   "execution_count": null,
   "metadata": {},
   "outputs": [],
   "source": [
    "import torch \n",
    "import random\n",
    "import numpy as np\n",
    "from megatron.trainer import Trainer\n",
    "from megatron.configuration import ExperimentConfig\n",
    "import time\n",
    "\n",
    "# Set cuda operations deterministic\n",
    "torch.backends.cudnn.deterministic = True\n",
    "\n",
    "config = ExperimentConfig(**experiments[0])\n",
    "random.seed(config.seed)\n",
    "np.random.seed(config.seed)\n",
    "torch.manual_seed(config.seed)\n",
    "trainer = Trainer(config)\n",
    "\n",
    "start_time = time.time() \n",
    "trainer.train_and_validate()\n",
    "end_time = time.time()\n",
    "\n",
    "# Calculate the duration in seconds\n",
    "duration_seconds = end_time - start_time\n",
    "hours, remainder = divmod(duration_seconds, 3600)\n",
    "minutes, seconds = divmod(remainder, 60)\n",
    "milliseconds = int((seconds - int(seconds)) * 1000)\n",
    "seconds = int(seconds)\n",
    "\n",
    "print(f\"Unptimized train and validate: {hours}h:{minutes}m:{seconds}s:{milliseconds}ms\")\n",
    "\n",
    "# Try to dealloc\n",
    "trainer = None\n",
    "del trainer"
   ]
  },
  {
   "cell_type": "code",
   "execution_count": null,
   "metadata": {},
   "outputs": [],
   "source": [
    "from megatron.model import Megatron\n",
    "from pathlib import Path\n",
    "\n",
    "config = ExperimentConfig(**experiments[0])\n",
    "model = Megatron(\n",
    "    depth_anything_size = config.dataset.depth_anything_size,\n",
    "    repvit_model= config.dataloader.repvit_model,\n",
    "    d_model = config.transformer.d_model,\n",
    "    max_len_pe=config.dataset.num_video,\n",
    "    n_heads = config.transformer.n_heads,\n",
    "    n_layers = config.transformer.n_layers,\n",
    "    d_ff  = config.transformer.d_ff,\n",
    ").from_pretrained(Path(config.train.log_dir))\n",
    "model.inference(video_path =Path(r\"H:\\My Drive\\Megatron_DeepFake\\dataset\\manipulated_sequences\\DeepFakeDetection\\raw\\videos\\01_03__hugging_happy__ISF9SP4G.mp4\"))"
   ]
  }
 ],
 "metadata": {
  "kernelspec": {
   "display_name": ".venv",
   "language": "python",
   "name": "python3"
  },
  "language_info": {
   "codemirror_mode": {
    "name": "ipython",
    "version": 3
   },
   "file_extension": ".py",
   "mimetype": "text/x-python",
   "name": "python",
   "nbconvert_exporter": "python",
   "pygments_lexer": "ipython3",
   "version": "3.10.11"
  }
 },
 "nbformat": 4,
 "nbformat_minor": 2
}
