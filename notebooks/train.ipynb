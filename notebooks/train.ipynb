{
 "cells": [
  {
   "cell_type": "code",
   "execution_count": 4,
   "metadata": {},
   "outputs": [],
   "source": [
    "experiment = {\n",
    "            \"dataset\": {\n",
    "                \"video_path\": r\"H:\\My Drive\\Megatron_DeepFake\\dataset\",\n",
    "                \"num_frames\": 5,\n",
    "                \"random_initial_frame\": False,\n",
    "                \"depth_anything_size\": \"Small\",\n",
    "                \"num_video\": 10,\n",
    "                \"frame_threshold\": 10,\n",
    "            },\n",
    "            \"dataloader\": {\n",
    "                \"batch_size\": 1,\n",
    "                \"repvit_model\": \"repvit_m0_9.dist_300e_in1k\",\n",
    "            },\n",
    "            \"transformer\": {\n",
    "                \"d_model\": 384,\n",
    "                \"n_heads\": 2,\n",
    "                \"n_layers\": 1,\n",
    "                \"d_ff\": 1024,\n",
    "            },\n",
    "            \"train\": {\n",
    "                \"learning_rate\": 0.001,\n",
    "                \"epochs\": 3,\n",
    "                \"log_dir\": \"data/runs/exp1\",\n",
    "                \"early_stop_counter\": 10,\n",
    "                \"train_size\": 0.5,\n",
    "                \"val_size\": 0.3,\n",
    "                \"test_size\": 0.2,\n",
    "                \"seed\": 42,\n",
    "            },\n",
    "        }"
   ]
  },
  {
   "cell_type": "code",
   "execution_count": 5,
   "metadata": {},
   "outputs": [
    {
     "name": "stderr",
     "output_type": "stream",
     "text": [
      "Training and validating:   0%|          | 0/3 [00:00<?, ?it/s]"
     ]
    },
    {
     "name": "stdout",
     "output_type": "stream",
     "text": [
      "depth_frames.shape=torch.Size([1, 5, 384]),rgb_frames.shape=torch.Size([1, 5, 384]),labels.shape=torch.Size([1])\n"
     ]
    },
    {
     "name": "stderr",
     "output_type": "stream",
     "text": []
    },
    {
     "name": "stdout",
     "output_type": "stream",
     "text": [
      "depth_frames.shape=torch.Size([1, 5, 384]),rgb_frames.shape=torch.Size([1, 5, 384]),labels.shape=torch.Size([1])\n"
     ]
    },
    {
     "name": "stderr",
     "output_type": "stream",
     "text": []
    },
    {
     "name": "stdout",
     "output_type": "stream",
     "text": [
      "depth_frames.shape=torch.Size([1, 5, 384]),rgb_frames.shape=torch.Size([1, 5, 384]),labels.shape=torch.Size([1])\n"
     ]
    },
    {
     "name": "stderr",
     "output_type": "stream",
     "text": []
    },
    {
     "name": "stdout",
     "output_type": "stream",
     "text": [
      "depth_frames.shape=torch.Size([1, 5, 384]),rgb_frames.shape=torch.Size([1, 5, 384]),labels.shape=torch.Size([1])\n"
     ]
    },
    {
     "name": "stderr",
     "output_type": "stream",
     "text": []
    },
    {
     "name": "stdout",
     "output_type": "stream",
     "text": [
      "depth_frames.shape=torch.Size([1, 5, 384]),rgb_frames.shape=torch.Size([1, 5, 384]),labels.shape=torch.Size([1])\n"
     ]
    },
    {
     "name": "stderr",
     "output_type": "stream",
     "text": [
      "100%|██████████| 5/5 [00:25<00:00,  5.20s/it]\n"
     ]
    },
    {
     "name": "stdout",
     "output_type": "stream",
     "text": [
      "EXIT TRAIN...\n"
     ]
    },
    {
     "name": "stderr",
     "output_type": "stream",
     "text": []
    },
    {
     "name": "stdout",
     "output_type": "stream",
     "text": [
      "depth_frames.shape=torch.Size([1, 5, 384]),rgb_frames.shape=torch.Size([1, 5, 384]),labels.shape=torch.Size([1])\n"
     ]
    },
    {
     "name": "stderr",
     "output_type": "stream",
     "text": []
    },
    {
     "name": "stdout",
     "output_type": "stream",
     "text": [
      "depth_frames.shape=torch.Size([1, 5, 384]),rgb_frames.shape=torch.Size([1, 5, 384]),labels.shape=torch.Size([1])\n"
     ]
    },
    {
     "name": "stderr",
     "output_type": "stream",
     "text": [
      "100%|██████████| 3/3 [00:10<00:00,  3.61s/it]\n",
      "Training and validating:  33%|███▎      | 1/3 [00:36<01:13, 36.90s/it]"
     ]
    },
    {
     "name": "stdout",
     "output_type": "stream",
     "text": [
      "depth_frames.shape=torch.Size([1, 5, 384]),rgb_frames.shape=torch.Size([1, 5, 384]),labels.shape=torch.Size([1])\n",
      "SAVING CHECKPOINT...\n",
      "SAVING RUN FOR TENSORBOARD...\n"
     ]
    },
    {
     "name": "stderr",
     "output_type": "stream",
     "text": []
    },
    {
     "name": "stdout",
     "output_type": "stream",
     "text": [
      "depth_frames.shape=torch.Size([1, 5, 384]),rgb_frames.shape=torch.Size([1, 5, 384]),labels.shape=torch.Size([1])\n"
     ]
    },
    {
     "name": "stderr",
     "output_type": "stream",
     "text": []
    },
    {
     "name": "stdout",
     "output_type": "stream",
     "text": [
      "depth_frames.shape=torch.Size([1, 5, 384]),rgb_frames.shape=torch.Size([1, 5, 384]),labels.shape=torch.Size([1])\n"
     ]
    },
    {
     "name": "stderr",
     "output_type": "stream",
     "text": []
    },
    {
     "name": "stdout",
     "output_type": "stream",
     "text": [
      "depth_frames.shape=torch.Size([1, 5, 384]),rgb_frames.shape=torch.Size([1, 5, 384]),labels.shape=torch.Size([1])\n"
     ]
    },
    {
     "name": "stderr",
     "output_type": "stream",
     "text": []
    },
    {
     "name": "stdout",
     "output_type": "stream",
     "text": [
      "depth_frames.shape=torch.Size([1, 5, 384]),rgb_frames.shape=torch.Size([1, 5, 384]),labels.shape=torch.Size([1])\n"
     ]
    },
    {
     "name": "stderr",
     "output_type": "stream",
     "text": []
    },
    {
     "name": "stdout",
     "output_type": "stream",
     "text": [
      "depth_frames.shape=torch.Size([1, 5, 384]),rgb_frames.shape=torch.Size([1, 5, 384]),labels.shape=torch.Size([1])\n"
     ]
    },
    {
     "name": "stderr",
     "output_type": "stream",
     "text": [
      "100%|██████████| 5/5 [00:43<00:00,  8.74s/it]\n"
     ]
    },
    {
     "name": "stdout",
     "output_type": "stream",
     "text": [
      "EXIT TRAIN...\n"
     ]
    },
    {
     "name": "stderr",
     "output_type": "stream",
     "text": []
    },
    {
     "name": "stdout",
     "output_type": "stream",
     "text": [
      "depth_frames.shape=torch.Size([1, 5, 384]),rgb_frames.shape=torch.Size([1, 5, 384]),labels.shape=torch.Size([1])\n"
     ]
    },
    {
     "name": "stderr",
     "output_type": "stream",
     "text": []
    },
    {
     "name": "stdout",
     "output_type": "stream",
     "text": [
      "depth_frames.shape=torch.Size([1, 5, 384]),rgb_frames.shape=torch.Size([1, 5, 384]),labels.shape=torch.Size([1])\n"
     ]
    },
    {
     "name": "stderr",
     "output_type": "stream",
     "text": [
      "100%|██████████| 3/3 [00:13<00:00,  4.54s/it]\n",
      "Training and validating:  67%|██████▋   | 2/3 [01:34<00:48, 48.96s/it]"
     ]
    },
    {
     "name": "stdout",
     "output_type": "stream",
     "text": [
      "depth_frames.shape=torch.Size([1, 5, 384]),rgb_frames.shape=torch.Size([1, 5, 384]),labels.shape=torch.Size([1])\n",
      "SAVING CHECKPOINT...\n",
      "SAVING RUN FOR TENSORBOARD...\n"
     ]
    },
    {
     "name": "stderr",
     "output_type": "stream",
     "text": []
    },
    {
     "name": "stdout",
     "output_type": "stream",
     "text": [
      "depth_frames.shape=torch.Size([1, 5, 384]),rgb_frames.shape=torch.Size([1, 5, 384]),labels.shape=torch.Size([1])\n"
     ]
    },
    {
     "name": "stderr",
     "output_type": "stream",
     "text": []
    },
    {
     "name": "stdout",
     "output_type": "stream",
     "text": [
      "depth_frames.shape=torch.Size([1, 5, 384]),rgb_frames.shape=torch.Size([1, 5, 384]),labels.shape=torch.Size([1])\n"
     ]
    },
    {
     "name": "stderr",
     "output_type": "stream",
     "text": []
    },
    {
     "name": "stdout",
     "output_type": "stream",
     "text": [
      "depth_frames.shape=torch.Size([1, 5, 384]),rgb_frames.shape=torch.Size([1, 5, 384]),labels.shape=torch.Size([1])\n"
     ]
    },
    {
     "name": "stderr",
     "output_type": "stream",
     "text": []
    },
    {
     "name": "stdout",
     "output_type": "stream",
     "text": [
      "depth_frames.shape=torch.Size([1, 5, 384]),rgb_frames.shape=torch.Size([1, 5, 384]),labels.shape=torch.Size([1])\n"
     ]
    },
    {
     "name": "stderr",
     "output_type": "stream",
     "text": []
    },
    {
     "name": "stdout",
     "output_type": "stream",
     "text": [
      "depth_frames.shape=torch.Size([1, 5, 384]),rgb_frames.shape=torch.Size([1, 5, 384]),labels.shape=torch.Size([1])\n"
     ]
    },
    {
     "name": "stderr",
     "output_type": "stream",
     "text": [
      "100%|██████████| 5/5 [00:35<00:00,  7.02s/it]\n"
     ]
    },
    {
     "name": "stdout",
     "output_type": "stream",
     "text": [
      "EXIT TRAIN...\n"
     ]
    },
    {
     "name": "stderr",
     "output_type": "stream",
     "text": []
    },
    {
     "name": "stdout",
     "output_type": "stream",
     "text": [
      "depth_frames.shape=torch.Size([1, 5, 384]),rgb_frames.shape=torch.Size([1, 5, 384]),labels.shape=torch.Size([1])\n"
     ]
    },
    {
     "name": "stderr",
     "output_type": "stream",
     "text": []
    },
    {
     "name": "stdout",
     "output_type": "stream",
     "text": [
      "depth_frames.shape=torch.Size([1, 5, 384]),rgb_frames.shape=torch.Size([1, 5, 384]),labels.shape=torch.Size([1])\n"
     ]
    },
    {
     "name": "stderr",
     "output_type": "stream",
     "text": [
      "100%|██████████| 3/3 [00:32<00:00, 10.86s/it]\n",
      "Training and validating: 100%|██████████| 3/3 [02:42<00:00, 54.02s/it]"
     ]
    },
    {
     "name": "stdout",
     "output_type": "stream",
     "text": [
      "depth_frames.shape=torch.Size([1, 5, 384]),rgb_frames.shape=torch.Size([1, 5, 384]),labels.shape=torch.Size([1])\n",
      "SAVING CHECKPOINT...\n",
      "SAVING RUN FOR TENSORBOARD...\n",
      "Model saved: data\\runs\\exp1\\models\\TransformerFakeDetector\\TransformerFakeDetector.pth\n"
     ]
    },
    {
     "name": "stderr",
     "output_type": "stream",
     "text": [
      "\n"
     ]
    }
   ],
   "source": [
    "from megatron.trainer import Config,Trainer\n",
    "\n",
    "config = Config(**experiment)\n",
    "trainer = Trainer(config)\n",
    "trainer.train()\n"
   ]
  },
  {
   "cell_type": "code",
   "execution_count": 6,
   "metadata": {},
   "outputs": [
    {
     "name": "stdout",
     "output_type": "stream",
     "text": [
      "The tensorboard extension is already loaded. To reload it, use:\n",
      "  %reload_ext tensorboard\n"
     ]
    },
    {
     "data": {
      "text/plain": [
       "Reusing TensorBoard on port 6006 (pid 11116), started 0:43:03 ago. (Use '!kill 11116' to kill it.)"
      ]
     },
     "metadata": {},
     "output_type": "display_data"
    },
    {
     "data": {
      "text/html": [
       "\n",
       "      <iframe id=\"tensorboard-frame-24e861bef77da601\" width=\"100%\" height=\"800\" frameborder=\"0\">\n",
       "      </iframe>\n",
       "      <script>\n",
       "        (function() {\n",
       "          const frame = document.getElementById(\"tensorboard-frame-24e861bef77da601\");\n",
       "          const url = new URL(\"http://localhost\");\n",
       "          const port = 6006;\n",
       "          if (port) {\n",
       "            url.port = port;\n",
       "          }\n",
       "          frame.src = url;\n",
       "        })();\n",
       "      </script>\n",
       "    "
      ],
      "text/plain": [
       "<IPython.core.display.HTML object>"
      ]
     },
     "metadata": {},
     "output_type": "display_data"
    }
   ],
   "source": [
    "%load_ext tensorboard\n",
    "\n",
    "# Start TensorBoard\n",
    "log_dir = config.train.log_dir\n",
    "%tensorboard --logdir {log_dir}"
   ]
  }
 ],
 "metadata": {
  "kernelspec": {
   "display_name": ".venv",
   "language": "python",
   "name": "python3"
  },
  "language_info": {
   "codemirror_mode": {
    "name": "ipython",
    "version": 3
   },
   "file_extension": ".py",
   "mimetype": "text/x-python",
   "name": "python",
   "nbconvert_exporter": "python",
   "pygments_lexer": "ipython3",
   "version": "3.10.11"
  }
 },
 "nbformat": 4,
 "nbformat_minor": 2
}
