{
 "cells": [
  {
   "cell_type": "code",
   "execution_count": null,
   "metadata": {},
   "outputs": [],
   "source": [
    "experiment = {\n",
    "            \"dataset\": {\n",
    "                \"video_path\": r\"H:\\My Drive\\Megatron_DeepFake\\dataset\",\n",
    "                \"num_frames\": 5,\n",
    "                \"random_initial_frame\": False,\n",
    "                \"depth_anything_size\": \"Small\",\n",
    "                \"num_video\": 20,\n",
    "                \"frame_threshold\": 10,\n",
    "            },\n",
    "            \"dataloader\": {\n",
    "                \"batch_size\": 2,\n",
    "                \"repvit_model\": \"repvit_m0_9.dist_300e_in1k\",\n",
    "            },\n",
    "            \"transformer\": {\n",
    "                \"d_model\": 384,\n",
    "                \"n_heads\": 2,\n",
    "                \"n_layers\": 1,\n",
    "                \"d_ff\": 1024,\n",
    "            },\n",
    "            \"train\": {\n",
    "                \"learning_rate\": 0.001,\n",
    "                \"epochs\": 10,\n",
    "                \"log_dir\": \"../data/runs/exp1\",\n",
    "                \"early_stop_counter\": 10,\n",
    "                \"train_size\": 0.5,\n",
    "                \"val_size\": 0.3,\n",
    "                \"test_size\": 0.2,\n",
    "                \"seed\": 42,\n",
    "            },\n",
    "        }"
   ]
  },
  {
   "cell_type": "code",
   "execution_count": null,
   "metadata": {},
   "outputs": [],
   "source": [
    "from megatron.trainer import Config,Trainer\n",
    "\n",
    "config = Config(**experiment)\n",
    "trainer = Trainer(config)\n",
    "trainer.train()\n"
   ]
  },
  {
   "cell_type": "code",
   "execution_count": null,
   "metadata": {},
   "outputs": [],
   "source": [
    "%load_ext tensorboard\n",
    "\n",
    "# Start TensorBoard\n",
    "log_dir = config.train.log_dir\n",
    "%tensorboard --logdir {log_dir}"
   ]
  }
 ],
 "metadata": {
  "kernelspec": {
   "display_name": ".venv",
   "language": "python",
   "name": "python3"
  },
  "language_info": {
   "codemirror_mode": {
    "name": "ipython",
    "version": 3
   },
   "file_extension": ".py",
   "mimetype": "text/x-python",
   "name": "python",
   "nbconvert_exporter": "python",
   "pygments_lexer": "ipython3",
   "version": "3.10.11"
  }
 },
 "nbformat": 4,
 "nbformat_minor": 2
}
