{
 "cells": [
  {
   "cell_type": "code",
   "execution_count": null,
   "metadata": {},
   "outputs": [],
   "source": [
    "try:\n",
    "  import megatron\n",
    "except ImportError:\n",
    "  !pip install https://github.com/valerio98-lab/Megatron_DeepFake/releases/download/beta/megatron-0.1.0.tar.gz --quiet"
   ]
  },
  {
   "cell_type": "code",
   "execution_count": null,
   "metadata": {},
   "outputs": [],
   "source": [
    "from google.colab import drive\n",
    "drive.mount('/content/drive')"
   ]
  },
  {
   "cell_type": "code",
   "execution_count": null,
   "metadata": {},
   "outputs": [],
   "source": [
    "experiments = [\n",
    "    {\n",
    "        \"dataset\": {\n",
    "            \"video_path\": r\"./drive/MyDrive/Megatron_DeepFake/dataset_processed\",\n",
    "            \"num_frames\": 20,\n",
    "            \"random_initial_frame\": False,\n",
    "            \"depth_anything_size\": \"Small\",\n",
    "        },\n",
    "        \"dataloader\": {\n",
    "            \"batch_size\": 120,\n",
    "            \"repvit_model\": \"repvit_m0_9.dist_300e_in1k\",\n",
    "            \"num_workers\": 0,\n",
    "            \"pin_memory\":False\n",
    "        },\n",
    "        \"transformer\": {\n",
    "            \"d_model\": 384,\n",
    "            \"n_heads\": 2,\n",
    "            \"n_layers\": 1,\n",
    "            \"d_ff\": 1024,\n",
    "        },\n",
    "        \"train\": {\n",
    "            \"learning_rate\": 0.001,\n",
    "            \"epochs\": 3,\n",
    "            \"tmp_dir\" : \"./drive/MyDrive/Megatron_DeepFake/batches\",\n",
    "            \"log_dir\": \".//drive/MyDrive/Megatron_DeepFake/data\",\n",
    "            \"early_stop_counter\": 10,\n",
    "            \"resume_training\": False,\n",
    "            \"train_size\": 0.5,\n",
    "            \"val_size\": 0.3,\n",
    "            \"test_size\": 0.2,\n",
    "        },\n",
    "        \"seed\": 42,\n",
    "    }\n",
    "]"
   ]
  },
  {
   "cell_type": "code",
   "execution_count": 1,
   "metadata": {},
   "outputs": [],
   "source": [
    "experiments = [\n",
    "    {\n",
    "        \"dataset\": {\n",
    "            \"video_path\": r\"H:\\My Drive\\Megatron_DeepFake\\dataset_processed\",\n",
    "            \"num_frames\": 20,\n",
    "            \"random_initial_frame\": False,\n",
    "            \"depth_anything_size\": \"Small\",\n",
    "        },\n",
    "        \"dataloader\": {\n",
    "            \"batch_size\": 128,\n",
    "            \"repvit_model\": \"repvit_m0_9.dist_300e_in1k\",\n",
    "            \"num_workers\": 0,\n",
    "            \"pin_memory\":False\n",
    "        },\n",
    "        \"transformer\": {\n",
    "            \"d_model\": 384,\n",
    "            \"n_heads\": 2,\n",
    "            \"n_layers\": 1,\n",
    "            \"d_ff\": 1024,\n",
    "        },\n",
    "        \"train\": {\n",
    "            \"learning_rate\": 0.001,\n",
    "            \"epochs\": 3,\n",
    "            \"tmp_dir\" : \"./../tmp\",\n",
    "            \"log_dir\": \"./../data/runs/exp1\",\n",
    "            \"early_stop_counter\": 10,\n",
    "            \"resume_training\": False,\n",
    "            \"train_size\": 0.5,\n",
    "            \"val_size\": 0.3,\n",
    "            \"test_size\": 0.2,\n",
    "        },\n",
    "        \"seed\": 42,\n",
    "    }\n",
    "]"
   ]
  },
  {
   "cell_type": "code",
   "execution_count": 2,
   "metadata": {},
   "outputs": [
    {
     "name": "stdout",
     "output_type": "stream",
     "text": [
      "dataloader_start_index=28\n"
     ]
    },
    {
     "data": {
      "application/vnd.jupyter.widget-view+json": {
       "model_id": "7355516367374306ba924e87e9fc6597",
       "version_major": 2,
       "version_minor": 0
      },
      "text/plain": [
       "Caching train data:  24%|##4       | 28/115 [00:00<?, ?it/s]"
      ]
     },
     "metadata": {},
     "output_type": "display_data"
    }
   ],
   "source": [
    "import torch \n",
    "import random\n",
    "import numpy as np\n",
    "from megatron.trainer import Trainer\n",
    "from megatron.configuration import ExperimentConfig\n",
    "import time\n",
    "\n",
    "# Set cuda operations deterministic\n",
    "torch.backends.cudnn.deterministic = True\n",
    "\n",
    "config = ExperimentConfig(**experiments[0])\n",
    "random.seed(config.seed)\n",
    "np.random.seed(config.seed)\n",
    "torch.manual_seed(config.seed)\n",
    "trainer = Trainer(config)\n",
    "\n",
    "\n",
    "\n",
    "start_time = time.time() \n",
    "trainer.optimized_train_and_validate()\n",
    "end_time = time.time()\n",
    "\n",
    "# Calculate the duration in seconds\n",
    "duration_seconds = end_time - start_time\n",
    "hours, remainder = divmod(duration_seconds, 3600)\n",
    "minutes, seconds = divmod(remainder, 60)\n",
    "milliseconds = int((seconds - int(seconds)) * 1000)\n",
    "seconds = int(seconds)\n",
    "\n",
    "# Try to dealloc\n",
    "trainer = None\n",
    "del trainer"
   ]
  },
  {
   "cell_type": "code",
   "execution_count": 3,
   "metadata": {},
   "outputs": [
    {
     "name": "stdout",
     "output_type": "stream",
     "text": [
      "torch.Size([128, 20, 384])\n",
      "torch.Size([128, 20, 384])\n",
      "torch.Size([128, 20, 384])\n",
      "torch.Size([128, 20, 384])\n",
      "torch.Size([128, 20, 384])\n",
      "torch.Size([128, 20, 384])\n",
      "torch.Size([128, 20, 384])\n",
      "torch.Size([128, 20, 384])\n",
      "torch.Size([128, 20, 384])\n",
      "torch.Size([128, 20, 384])\n",
      "torch.Size([128, 20, 384])\n",
      "torch.Size([128, 20, 384])\n",
      "torch.Size([128, 20, 384])\n",
      "torch.Size([128, 20, 384])\n",
      "torch.Size([128, 20, 384])\n",
      "torch.Size([128, 20, 384])\n",
      "torch.Size([128, 20, 384])\n",
      "torch.Size([128, 20, 384])\n"
     ]
    }
   ],
   "source": [
    "import os\n",
    "import torch\n",
    "path = r\"H:\\My Drive\\Megatron_DeepFake\\batches - backup\\all\\batch_size_128\\num_frames_20\\depth_anything_size_Small\\repvit_model_repvit_m0_9dist_300e_in1k\\d_model_384\\\\\"\n",
    "\n",
    "\n",
    "for elem in os.listdir(path):\n",
    "    if \"train_rgb_batch_\" in elem:\n",
    "        try:\n",
    "            print(torch.load(path+elem,weights_only=True).shape)\n",
    "        except:\n",
    "            print(elem)\n"
   ]
  },
  {
   "cell_type": "code",
   "execution_count": null,
   "metadata": {},
   "outputs": [],
   "source": [
    "from megatron.model import Megatron\n",
    "from pathlib import Path\n",
    "\n",
    "config = ExperimentConfig(**experiments[0])\n",
    "model = Megatron(\n",
    "    depth_anything_size = config.dataset.depth_anything_size,\n",
    "    repvit_model= config.dataloader.repvit_model,\n",
    "    d_model = config.transformer.d_model,\n",
    "    max_len_pe=config.dataset.num_video,\n",
    "    n_heads = config.transformer.n_heads,\n",
    "    n_layers = config.transformer.n_layers,\n",
    "    d_ff  = config.transformer.d_ff,\n",
    ").from_pretrained(Path(config.train.log_dir))\n",
    "model.inference(video_path =Path(r\"H:\\My Drive\\Megatron_DeepFake\\dataset\\manipulated_sequences\\DeepFakeDetection\\raw\\videos\\01_03__hugging_happy__ISF9SP4G.mp4\"))"
   ]
  }
 ],
 "metadata": {
  "kernelspec": {
   "display_name": ".venv",
   "language": "python",
   "name": "python3"
  },
  "language_info": {
   "codemirror_mode": {
    "name": "ipython",
    "version": 3
   },
   "file_extension": ".py",
   "mimetype": "text/x-python",
   "name": "python",
   "nbconvert_exporter": "python",
   "pygments_lexer": "ipython3",
   "version": "3.10.11"
  }
 },
 "nbformat": 4,
 "nbformat_minor": 2
}
