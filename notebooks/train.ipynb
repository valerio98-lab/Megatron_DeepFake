{
 "cells": [
  {
   "cell_type": "code",
   "execution_count": 1,
   "metadata": {},
   "outputs": [],
   "source": [
    "experiments = [\n",
    "    {\n",
    "        \"dataset\": {\n",
    "            \"video_path\": r\"H:\\My Drive\\Megatron_DeepFake\\dataset\",\n",
    "            \"num_frames\": 1,\n",
    "            \"random_initial_frame\": True,\n",
    "            \"depth_anything_size\": \"Small\",\n",
    "            \"num_video\": 4,\n",
    "        },\n",
    "        \"dataloader\": {\n",
    "            \"batch_size\": 4,\n",
    "            \"repvit_model\": \"repvit_m0_9.dist_300e_in1k\",\n",
    "            \"num_workers\": 0,\n",
    "            \"pin_memory\":False\n",
    "        },\n",
    "        \"transformer\": {\n",
    "            \"d_model\": 384,\n",
    "            \"n_heads\": 2,\n",
    "            \"n_layers\": 1,\n",
    "            \"d_ff\": 1024,\n",
    "        },\n",
    "        \"train\": {\n",
    "            \"learning_rate\": 0.001,\n",
    "            \"epochs\": 5,\n",
    "            \"log_dir\": \"./../data/runs/exp1\",\n",
    "            \"early_stop_counter\": 10,\n",
    "            \"resume_training\": True,\n",
    "            \"train_size\": 0.5,\n",
    "            \"val_size\": 0.3,\n",
    "            \"test_size\": 0.2,\n",
    "        },\n",
    "        \"seed\": 42,\n",
    "    }\n",
    "]"
   ]
  },
  {
   "cell_type": "code",
   "execution_count": 2,
   "metadata": {},
   "outputs": [
    {
     "data": {
      "application/vnd.jupyter.widget-view+json": {
       "model_id": "40af8b716e9c43b1b8a50916bdb6e775",
       "version_major": 2,
       "version_minor": 0
      },
      "text/plain": [
       "Training and validating:   0%|          | 0/5 [00:00<?, ?it/s]"
      ]
     },
     "metadata": {},
     "output_type": "display_data"
    },
    {
     "data": {
      "application/vnd.jupyter.widget-view+json": {
       "model_id": "9f95dca712c34899b9011a60eea3c205",
       "version_major": 2,
       "version_minor": 0
      },
      "text/plain": [
       "TRAINING:   0%|          | 0/1 [00:00<?, ?it/s]"
      ]
     },
     "metadata": {},
     "output_type": "display_data"
    },
    {
     "data": {
      "application/vnd.jupyter.widget-view+json": {
       "model_id": "cdc90c7cc021456cb53a0e3d76c61514",
       "version_major": 2,
       "version_minor": 0
      },
      "text/plain": [
       "VALIDATING:   0%|          | 0/1 [00:00<?, ?it/s]"
      ]
     },
     "metadata": {},
     "output_type": "display_data"
    },
    {
     "data": {
      "application/vnd.jupyter.widget-view+json": {
       "model_id": "7de5015c8e8d4fcbad04c0e7921bc422",
       "version_major": 2,
       "version_minor": 0
      },
      "text/plain": [
       "TRAINING:   0%|          | 0/1 [00:00<?, ?it/s]"
      ]
     },
     "metadata": {},
     "output_type": "display_data"
    },
    {
     "data": {
      "application/vnd.jupyter.widget-view+json": {
       "model_id": "87003e59d2d44cadaef653c80c5f0360",
       "version_major": 2,
       "version_minor": 0
      },
      "text/plain": [
       "VALIDATING:   0%|          | 0/1 [00:00<?, ?it/s]"
      ]
     },
     "metadata": {},
     "output_type": "display_data"
    },
    {
     "data": {
      "application/vnd.jupyter.widget-view+json": {
       "model_id": "08e5182b36584ec99bcec1f743982930",
       "version_major": 2,
       "version_minor": 0
      },
      "text/plain": [
       "TRAINING:   0%|          | 0/1 [00:00<?, ?it/s]"
      ]
     },
     "metadata": {},
     "output_type": "display_data"
    },
    {
     "data": {
      "application/vnd.jupyter.widget-view+json": {
       "model_id": "d77df3cb4e2541849609ab878053cfdd",
       "version_major": 2,
       "version_minor": 0
      },
      "text/plain": [
       "VALIDATING:   0%|          | 0/1 [00:00<?, ?it/s]"
      ]
     },
     "metadata": {},
     "output_type": "display_data"
    },
    {
     "data": {
      "application/vnd.jupyter.widget-view+json": {
       "model_id": "f2c4a606c0494ee18321fdd55ddf0df1",
       "version_major": 2,
       "version_minor": 0
      },
      "text/plain": [
       "TRAINING:   0%|          | 0/1 [00:00<?, ?it/s]"
      ]
     },
     "metadata": {},
     "output_type": "display_data"
    },
    {
     "name": "stderr",
     "output_type": "stream",
     "text": [
      "You seem to be using the pipelines sequentially on GPU. In order to maximize efficiency please use a dataset\n"
     ]
    },
    {
     "data": {
      "application/vnd.jupyter.widget-view+json": {
       "model_id": "d4e9368accb54b73a89b8008dd43678f",
       "version_major": 2,
       "version_minor": 0
      },
      "text/plain": [
       "VALIDATING:   0%|          | 0/1 [00:00<?, ?it/s]"
      ]
     },
     "metadata": {},
     "output_type": "display_data"
    },
    {
     "data": {
      "application/vnd.jupyter.widget-view+json": {
       "model_id": "88483fbb0afe4709979040bc35e0c57e",
       "version_major": 2,
       "version_minor": 0
      },
      "text/plain": [
       "TRAINING:   0%|          | 0/1 [00:00<?, ?it/s]"
      ]
     },
     "metadata": {},
     "output_type": "display_data"
    },
    {
     "data": {
      "application/vnd.jupyter.widget-view+json": {
       "model_id": "5f9fa6458d354d0ab31cc34dadb465c2",
       "version_major": 2,
       "version_minor": 0
      },
      "text/plain": [
       "VALIDATING:   0%|          | 0/1 [00:00<?, ?it/s]"
      ]
     },
     "metadata": {},
     "output_type": "display_data"
    },
    {
     "data": {
      "application/vnd.jupyter.widget-view+json": {
       "model_id": "806e3c9e121a4bf0887e11563b9e884d",
       "version_major": 2,
       "version_minor": 0
      },
      "text/plain": [
       "TESTING:   0%|          | 0/1 [00:00<?, ?it/s]"
      ]
     },
     "metadata": {},
     "output_type": "display_data"
    }
   ],
   "source": [
    "import torch \n",
    "import random\n",
    "import numpy as np\n",
    "from megatron.trainer import Trainer\n",
    "from megatron.configuration import ExperimentConfig\n",
    "\n",
    "# Set cuda operations deterministic\n",
    "torch.backends.cudnn.deterministic = True\n",
    "for experiment in experiments:\n",
    "    config = ExperimentConfig(**experiment)\n",
    "    random.seed(config.seed)\n",
    "    np.random.seed(config.seed)\n",
    "    torch.manual_seed(config.seed)\n",
    "    trainer = Trainer(config)\n",
    "    trainer.train_and_validate()\n",
    "    trainer.test()\n"
   ]
  },
  {
   "cell_type": "code",
   "execution_count": 3,
   "metadata": {},
   "outputs": [
    {
     "data": {
      "text/plain": [
       "'original'"
      ]
     },
     "execution_count": 3,
     "metadata": {},
     "output_type": "execute_result"
    }
   ],
   "source": [
    "from megatron.model import Megatron\n",
    "from pathlib import Path\n",
    "\n",
    "config = ExperimentConfig(**experiments[0])\n",
    "model = Megatron(\n",
    "    depth_anything_size = config.dataset.depth_anything_size,\n",
    "    repvit_model= config.dataloader.repvit_model,\n",
    "    d_model = config.transformer.d_model,\n",
    "    max_len_pe=config.dataset.num_video,\n",
    "    n_heads = config.transformer.n_heads,\n",
    "    n_layers = config.transformer.n_layers,\n",
    "    d_ff  = config.transformer.d_ff,\n",
    ").from_pretrained(Path(config.train.log_dir))\n",
    "model.inference(video_path =Path(r\"H:\\My Drive\\Megatron_DeepFake\\dataset\\manipulated_sequences\\DeepFakeDetection\\raw\\videos\\01_03__hugging_happy__ISF9SP4G.mp4\"))"
   ]
  },
  {
   "cell_type": "code",
   "execution_count": 4,
   "metadata": {},
   "outputs": [
    {
     "data": {
      "text/html": [
       "\n",
       "      <iframe id=\"tensorboard-frame-1c80317fa3b1799d\" width=\"100%\" height=\"800\" frameborder=\"0\">\n",
       "      </iframe>\n",
       "      <script>\n",
       "        (function() {\n",
       "          const frame = document.getElementById(\"tensorboard-frame-1c80317fa3b1799d\");\n",
       "          const url = new URL(\"/\", window.location);\n",
       "          const port = 6006;\n",
       "          if (port) {\n",
       "            url.port = port;\n",
       "          }\n",
       "          frame.src = url;\n",
       "        })();\n",
       "      </script>\n",
       "    "
      ],
      "text/plain": [
       "<IPython.core.display.HTML object>"
      ]
     },
     "metadata": {},
     "output_type": "display_data"
    }
   ],
   "source": [
    "%load_ext tensorboard\n",
    "\n",
    "# Start TensorBoard\n",
    "log_dir = config.train.log_dir\n",
    "%tensorboard --logdir {log_dir}"
   ]
  }
 ],
 "metadata": {
  "kernelspec": {
   "display_name": ".venv",
   "language": "python",
   "name": "python3"
  },
  "language_info": {
   "codemirror_mode": {
    "name": "ipython",
    "version": 3
   },
   "file_extension": ".py",
   "mimetype": "text/x-python",
   "name": "python",
   "nbconvert_exporter": "python",
   "pygments_lexer": "ipython3",
   "version": "3.10.11"
  }
 },
 "nbformat": 4,
 "nbformat_minor": 2
}
